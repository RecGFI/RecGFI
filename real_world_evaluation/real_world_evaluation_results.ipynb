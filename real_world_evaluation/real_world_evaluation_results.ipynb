{
 "cells": [
  {
   "cell_type": "code",
   "execution_count": 1,
   "id": "c0e5eccb",
   "metadata": {},
   "outputs": [],
   "source": [
    "import json\n",
    "import pandas as pd\n",
    "from collections import Counter"
   ]
  },
  {
   "cell_type": "code",
   "execution_count": 2,
   "id": "bc225872",
   "metadata": {},
   "outputs": [
    {
     "name": "stdout",
     "output_type": "stream",
     "text": [
      "511\n"
     ]
    },
    {
     "data": {
      "text/html": [
       "<div>\n",
       "<style scoped>\n",
       "    .dataframe tbody tr th:only-of-type {\n",
       "        vertical-align: middle;\n",
       "    }\n",
       "\n",
       "    .dataframe tbody tr th {\n",
       "        vertical-align: top;\n",
       "    }\n",
       "\n",
       "    .dataframe thead th {\n",
       "        text-align: right;\n",
       "    }\n",
       "</style>\n",
       "<table border=\"1\" class=\"dataframe\">\n",
       "  <thead>\n",
       "    <tr style=\"text-align: right;\">\n",
       "      <th></th>\n",
       "      <th>url</th>\n",
       "      <th>status_code</th>\n",
       "      <th>closed</th>\n",
       "      <th>commits</th>\n",
       "    </tr>\n",
       "  </thead>\n",
       "  <tbody>\n",
       "    <tr>\n",
       "      <th>0</th>\n",
       "      <td>https://github.com/netlify/netlify-cms/issues/...</td>\n",
       "      <td>reported,confirmed</td>\n",
       "      <td>False</td>\n",
       "      <td>-1</td>\n",
       "    </tr>\n",
       "    <tr>\n",
       "      <th>1</th>\n",
       "      <td>https://github.com/sindresorhus/refined-github...</td>\n",
       "      <td>reported,confirmed</td>\n",
       "      <td>False</td>\n",
       "      <td>-1</td>\n",
       "    </tr>\n",
       "    <tr>\n",
       "      <th>2</th>\n",
       "      <td>https://github.com/sindresorhus/refined-github...</td>\n",
       "      <td>reported,confirmed</td>\n",
       "      <td>False</td>\n",
       "      <td>-1</td>\n",
       "    </tr>\n",
       "    <tr>\n",
       "      <th>3</th>\n",
       "      <td>https://github.com/facebook/docusaurus/issues/...</td>\n",
       "      <td>reported,confirmed</td>\n",
       "      <td>True</td>\n",
       "      <td>-1</td>\n",
       "    </tr>\n",
       "    <tr>\n",
       "      <th>4</th>\n",
       "      <td>https://github.com/facebook/jest/issues/11109</td>\n",
       "      <td>reported,confirmed</td>\n",
       "      <td>False</td>\n",
       "      <td>-1</td>\n",
       "    </tr>\n",
       "  </tbody>\n",
       "</table>\n",
       "</div>"
      ],
      "text/plain": [
       "                                                 url         status_code  \\\n",
       "0  https://github.com/netlify/netlify-cms/issues/...  reported,confirmed   \n",
       "1  https://github.com/sindresorhus/refined-github...  reported,confirmed   \n",
       "2  https://github.com/sindresorhus/refined-github...  reported,confirmed   \n",
       "3  https://github.com/facebook/docusaurus/issues/...  reported,confirmed   \n",
       "4      https://github.com/facebook/jest/issues/11109  reported,confirmed   \n",
       "\n",
       "   closed  commits  \n",
       "0   False       -1  \n",
       "1   False       -1  \n",
       "2   False       -1  \n",
       "3    True       -1  \n",
       "4   False       -1  "
      ]
     },
     "execution_count": 2,
     "metadata": {},
     "output_type": "execute_result"
    }
   ],
   "source": [
    "df = pd.read_csv(\"prediction_real_world_issues.csv\")\n",
    "print(len(df))\n",
    "df.head()"
   ]
  },
  {
   "cell_type": "code",
   "execution_count": 3,
   "id": "2a60d9a7",
   "metadata": {},
   "outputs": [
    {
     "data": {
      "text/plain": [
       "Counter({'reported,confirmed': 16,\n",
       "         'reported,denied': 17,\n",
       "         'reported': 27,\n",
       "         'gfi': 67,\n",
       "         'in-discussion': 70,\n",
       "         'in-progress': 115,\n",
       "         'not task': 24,\n",
       "         'not-gfi': 28,\n",
       "         'not-task': 86,\n",
       "         'skipped': 52,\n",
       "         'closed': 9})"
      ]
     },
     "execution_count": 3,
     "metadata": {},
     "output_type": "execute_result"
    }
   ],
   "source": [
    "Counter(df.status_code)"
   ]
  },
  {
   "cell_type": "code",
   "execution_count": 4,
   "id": "6bb172f2-562f-403a-901a-a934dc7e18cf",
   "metadata": {},
   "outputs": [
    {
     "data": {
      "text/html": [
       "<div>\n",
       "<style scoped>\n",
       "    .dataframe tbody tr th:only-of-type {\n",
       "        vertical-align: middle;\n",
       "    }\n",
       "\n",
       "    .dataframe tbody tr th {\n",
       "        vertical-align: top;\n",
       "    }\n",
       "\n",
       "    .dataframe thead th {\n",
       "        text-align: right;\n",
       "    }\n",
       "</style>\n",
       "<table border=\"1\" class=\"dataframe\">\n",
       "  <thead>\n",
       "    <tr style=\"text-align: right;\">\n",
       "      <th></th>\n",
       "      <th>url</th>\n",
       "      <th>status_code</th>\n",
       "      <th>closed</th>\n",
       "      <th>commits</th>\n",
       "    </tr>\n",
       "  </thead>\n",
       "  <tbody>\n",
       "    <tr>\n",
       "      <th>0</th>\n",
       "      <td>https://github.com/netlify/netlify-cms/issues/...</td>\n",
       "      <td>reported,confirmed</td>\n",
       "      <td>False</td>\n",
       "      <td>-1</td>\n",
       "    </tr>\n",
       "    <tr>\n",
       "      <th>1</th>\n",
       "      <td>https://github.com/sindresorhus/refined-github...</td>\n",
       "      <td>reported,confirmed</td>\n",
       "      <td>False</td>\n",
       "      <td>-1</td>\n",
       "    </tr>\n",
       "    <tr>\n",
       "      <th>2</th>\n",
       "      <td>https://github.com/sindresorhus/refined-github...</td>\n",
       "      <td>reported,confirmed</td>\n",
       "      <td>False</td>\n",
       "      <td>-1</td>\n",
       "    </tr>\n",
       "    <tr>\n",
       "      <th>3</th>\n",
       "      <td>https://github.com/facebook/docusaurus/issues/...</td>\n",
       "      <td>reported,confirmed</td>\n",
       "      <td>True</td>\n",
       "      <td>-1</td>\n",
       "    </tr>\n",
       "    <tr>\n",
       "      <th>4</th>\n",
       "      <td>https://github.com/facebook/jest/issues/11109</td>\n",
       "      <td>reported,confirmed</td>\n",
       "      <td>False</td>\n",
       "      <td>-1</td>\n",
       "    </tr>\n",
       "    <tr>\n",
       "      <th>...</th>\n",
       "      <td>...</td>\n",
       "      <td>...</td>\n",
       "      <td>...</td>\n",
       "      <td>...</td>\n",
       "    </tr>\n",
       "    <tr>\n",
       "      <th>95</th>\n",
       "      <td>https://github.com/aws/aws-cdk/issues/15997</td>\n",
       "      <td>gfi</td>\n",
       "      <td>False</td>\n",
       "      <td>-1</td>\n",
       "    </tr>\n",
       "    <tr>\n",
       "      <th>96</th>\n",
       "      <td>https://github.com/aws/aws-cdk/issues/16001</td>\n",
       "      <td>gfi</td>\n",
       "      <td>False</td>\n",
       "      <td>-1</td>\n",
       "    </tr>\n",
       "    <tr>\n",
       "      <th>97</th>\n",
       "      <td>https://github.com/aws/aws-cdk/issues/16003</td>\n",
       "      <td>gfi</td>\n",
       "      <td>False</td>\n",
       "      <td>-1</td>\n",
       "    </tr>\n",
       "    <tr>\n",
       "      <th>98</th>\n",
       "      <td>https://github.com/aws/aws-cdk/issues/16009</td>\n",
       "      <td>gfi</td>\n",
       "      <td>True</td>\n",
       "      <td>-1</td>\n",
       "    </tr>\n",
       "    <tr>\n",
       "      <th>99</th>\n",
       "      <td>https://github.com/aws/aws-cdk/issues/16087</td>\n",
       "      <td>gfi</td>\n",
       "      <td>False</td>\n",
       "      <td>-1</td>\n",
       "    </tr>\n",
       "  </tbody>\n",
       "</table>\n",
       "<p>100 rows × 4 columns</p>\n",
       "</div>"
      ],
      "text/plain": [
       "                                                  url         status_code  \\\n",
       "0   https://github.com/netlify/netlify-cms/issues/...  reported,confirmed   \n",
       "1   https://github.com/sindresorhus/refined-github...  reported,confirmed   \n",
       "2   https://github.com/sindresorhus/refined-github...  reported,confirmed   \n",
       "3   https://github.com/facebook/docusaurus/issues/...  reported,confirmed   \n",
       "4       https://github.com/facebook/jest/issues/11109  reported,confirmed   \n",
       "..                                                ...                 ...   \n",
       "95        https://github.com/aws/aws-cdk/issues/15997                 gfi   \n",
       "96        https://github.com/aws/aws-cdk/issues/16001                 gfi   \n",
       "97        https://github.com/aws/aws-cdk/issues/16003                 gfi   \n",
       "98        https://github.com/aws/aws-cdk/issues/16009                 gfi   \n",
       "99        https://github.com/aws/aws-cdk/issues/16087                 gfi   \n",
       "\n",
       "    closed  commits  \n",
       "0    False       -1  \n",
       "1    False       -1  \n",
       "2    False       -1  \n",
       "3     True       -1  \n",
       "4    False       -1  \n",
       "..     ...      ...  \n",
       "95   False       -1  \n",
       "96   False       -1  \n",
       "97   False       -1  \n",
       "98    True       -1  \n",
       "99   False       -1  \n",
       "\n",
       "[100 rows x 4 columns]"
      ]
     },
     "execution_count": 4,
     "metadata": {},
     "output_type": "execute_result"
    }
   ],
   "source": [
    "df.head(100)"
   ]
  },
  {
   "cell_type": "code",
   "execution_count": 5,
   "id": "3d213c5e-b8d5-46e6-9fcb-f1a3bb409186",
   "metadata": {},
   "outputs": [
    {
     "data": {
      "text/plain": [
       "Counter({False: 334, True: 177})"
      ]
     },
     "execution_count": 5,
     "metadata": {},
     "output_type": "execute_result"
    }
   ],
   "source": [
    "Counter(df.closed)"
   ]
  },
  {
   "cell_type": "code",
   "execution_count": 6,
   "id": "472e7b3f-19c9-4b79-ad48-3a0ca94ed6b8",
   "metadata": {},
   "outputs": [
    {
     "data": {
      "text/plain": [
       "Counter({-1: 433,\n",
       "         1: 24,\n",
       "         2: 3,\n",
       "         94: 1,\n",
       "         4: 1,\n",
       "         103: 2,\n",
       "         109: 1,\n",
       "         115: 1,\n",
       "         116: 1,\n",
       "         122: 2,\n",
       "         161: 1,\n",
       "         45: 1,\n",
       "         151: 1,\n",
       "         321: 1,\n",
       "         493: 1,\n",
       "         5: 1,\n",
       "         10: 1,\n",
       "         20: 1,\n",
       "         191: 1,\n",
       "         309: 1,\n",
       "         32: 1,\n",
       "         388: 1,\n",
       "         1703: 2,\n",
       "         3: 1,\n",
       "         7: 1,\n",
       "         14: 2,\n",
       "         28: 1,\n",
       "         33: 2,\n",
       "         35: 1,\n",
       "         38: 1,\n",
       "         95: 1,\n",
       "         107: 1,\n",
       "         283: 1,\n",
       "         336: 1,\n",
       "         3703: 1,\n",
       "         81: 1,\n",
       "         6: 2,\n",
       "         8: 1,\n",
       "         11: 1,\n",
       "         26: 1,\n",
       "         79: 1,\n",
       "         104: 1,\n",
       "         129: 1,\n",
       "         738: 1,\n",
       "         34: 1,\n",
       "         216: 1,\n",
       "         1705: 2})"
      ]
     },
     "execution_count": 6,
     "metadata": {},
     "output_type": "execute_result"
    }
   ],
   "source": [
    "Counter(df.commits)"
   ]
  },
  {
   "cell_type": "code",
   "execution_count": 7,
   "id": "58836e2e-7751-4b1c-9a08-ecfde0b9fd59",
   "metadata": {},
   "outputs": [
    {
     "data": {
      "text/plain": [
       "Counter({-1: 53, 1: 7, 2: 2, 5: 1, 10: 1, 20: 1, 191: 1, 309: 1})"
      ]
     },
     "execution_count": 7,
     "metadata": {},
     "output_type": "execute_result"
    }
   ],
   "source": [
    "Counter(df.commits[df.status_code == \"gfi\"])"
   ]
  },
  {
   "cell_type": "code",
   "execution_count": 8,
   "id": "55733155-ce97-480d-9f18-13fcf72335a3",
   "metadata": {},
   "outputs": [
    {
     "data": {
      "text/plain": [
       "Counter({-1: 22, 1: 1, 45: 1, 151: 1, 321: 1, 493: 1})"
      ]
     },
     "execution_count": 8,
     "metadata": {},
     "output_type": "execute_result"
    }
   ],
   "source": [
    "Counter(df.commits[df.status_code == \"reported\"])"
   ]
  },
  {
   "cell_type": "code",
   "execution_count": 9,
   "id": "33743dc0-9407-4be4-9dba-71e5e36b0ab3",
   "metadata": {},
   "outputs": [
    {
     "data": {
      "text/plain": [
       "Counter({-1: 12, 1: 2, 2: 1, 94: 1})"
      ]
     },
     "execution_count": 9,
     "metadata": {},
     "output_type": "execute_result"
    }
   ],
   "source": [
    "Counter(df.commits[df.status_code == \"reported,confirmed\"])"
   ]
  },
  {
   "cell_type": "code",
   "execution_count": 10,
   "id": "8e5b7f59-100f-4c93-93b4-4f0799c2694f",
   "metadata": {},
   "outputs": [
    {
     "data": {
      "text/plain": [
       "Counter({-1: 9, 1: 1, 4: 1, 103: 1, 109: 1, 115: 1, 116: 1, 122: 1, 161: 1})"
      ]
     },
     "execution_count": 10,
     "metadata": {},
     "output_type": "execute_result"
    }
   ],
   "source": [
    "Counter(df.commits[df.status_code == \"reported,denied\"])"
   ]
  }
 ],
 "metadata": {
  "kernelspec": {
   "display_name": "Python 3 (ipykernel)",
   "language": "python",
   "name": "python3"
  },
  "language_info": {
   "codemirror_mode": {
    "name": "ipython",
    "version": 3
   },
   "file_extension": ".py",
   "mimetype": "text/x-python",
   "name": "python",
   "nbconvert_exporter": "python",
   "pygments_lexer": "ipython3",
   "version": "3.8.2"
  }
 },
 "nbformat": 4,
 "nbformat_minor": 5
}
