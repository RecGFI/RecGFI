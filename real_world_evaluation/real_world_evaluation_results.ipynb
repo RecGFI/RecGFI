{
 "cells": [
  {
   "cell_type": "code",
   "execution_count": 1,
   "id": "c0e5eccb",
   "metadata": {},
   "outputs": [
    {
     "ename": "ModuleNotFoundError",
     "evalue": "No module named 'tqdm'",
     "output_type": "error",
     "traceback": [
      "\u001b[0;31m---------------------------------------------------------------------------\u001b[0m",
      "\u001b[0;31mModuleNotFoundError\u001b[0m                       Traceback (most recent call last)",
      "\u001b[0;32m<ipython-input-1-13a96438eb38>\u001b[0m in \u001b[0;36m<module>\u001b[0;34m\u001b[0m\n\u001b[1;32m      2\u001b[0m \u001b[0;32mimport\u001b[0m \u001b[0mpandas\u001b[0m \u001b[0;32mas\u001b[0m \u001b[0mpd\u001b[0m\u001b[0;34m\u001b[0m\u001b[0;34m\u001b[0m\u001b[0m\n\u001b[1;32m      3\u001b[0m \u001b[0;32mfrom\u001b[0m \u001b[0mcollections\u001b[0m \u001b[0;32mimport\u001b[0m \u001b[0mCounter\u001b[0m\u001b[0;34m\u001b[0m\u001b[0;34m\u001b[0m\u001b[0m\n\u001b[0;32m----> 4\u001b[0;31m \u001b[0;32mfrom\u001b[0m \u001b[0mtqdm\u001b[0m \u001b[0;32mimport\u001b[0m \u001b[0mtqdm\u001b[0m\u001b[0;34m\u001b[0m\u001b[0;34m\u001b[0m\u001b[0m\n\u001b[0m\u001b[1;32m      5\u001b[0m \u001b[0;32mfrom\u001b[0m \u001b[0mgithub\u001b[0m \u001b[0;32mimport\u001b[0m \u001b[0mGithub\u001b[0m\u001b[0;34m\u001b[0m\u001b[0;34m\u001b[0m\u001b[0m\n\u001b[1;32m      6\u001b[0m \u001b[0;32mfrom\u001b[0m \u001b[0mget_latest_issues\u001b[0m \u001b[0;32mimport\u001b[0m \u001b[0mget_closer_commits\u001b[0m\u001b[0;34m\u001b[0m\u001b[0;34m\u001b[0m\u001b[0m\n",
      "\u001b[0;31mModuleNotFoundError\u001b[0m: No module named 'tqdm'"
     ]
    }
   ],
   "source": [
    "import json\n",
    "import pandas as pd\n",
    "from collections import Counter\n",
    "from tqdm import tqdm\n",
    "from github import Github\n",
    "from get_latest_issues import get_closer_commits"
   ]
  },
  {
   "cell_type": "code",
   "execution_count": null,
   "id": "bc225872",
   "metadata": {},
   "outputs": [
    {
     "ename": "NameError",
     "evalue": "name 'pd' is not defined",
     "output_type": "error",
     "traceback": [
      "\u001b[0;31m---------------------------------------------------------------------------\u001b[0m",
      "\u001b[0;31mNameError\u001b[0m                                 Traceback (most recent call last)",
      "Input \u001b[0;32mIn [1]\u001b[0m, in \u001b[0;36m<module>\u001b[0;34m\u001b[0m\n\u001b[0;32m----> 1\u001b[0m df \u001b[38;5;241m=\u001b[39m \u001b[43mpd\u001b[49m\u001b[38;5;241m.\u001b[39mread_csv(\u001b[38;5;124m\"\u001b[39m\u001b[38;5;124mprediction_real_world_issues.csv\u001b[39m\u001b[38;5;124m\"\u001b[39m)\n\u001b[1;32m      2\u001b[0m \u001b[38;5;28mprint\u001b[39m(\u001b[38;5;28mlen\u001b[39m(df))\n\u001b[1;32m      3\u001b[0m df\u001b[38;5;241m.\u001b[39mhead()\n",
      "\u001b[0;31mNameError\u001b[0m: name 'pd' is not defined"
     ]
    }
   ],
   "source": [
    "df = pd.read_csv(\"prediction_real_world_issues.csv\")\n",
    "print(len(df))\n",
    "df.head()"
   ]
  },
  {
   "cell_type": "code",
   "execution_count": null,
   "id": "2a60d9a7",
   "metadata": {},
   "outputs": [
    {
     "data": {
      "text/plain": [
       "Counter({'not-task': 85,\n",
       "         'gfi': 67,\n",
       "         'in-progress': 115,\n",
       "         'in-discussion': 70,\n",
       "         'reported': 27,\n",
       "         'closed': 9,\n",
       "         'reported,confirmed': 16,\n",
       "         'not-gfi': 28,\n",
       "         'reported,denied': 28,\n",
       "         'not task': 25,\n",
       "         'skipped': 41})"
      ]
     },
     "execution_count": 3,
     "metadata": {},
     "output_type": "execute_result"
    }
   ],
   "source": [
    "Counter(df.status_code)"
   ]
  },
  {
   "cell_type": "code",
   "execution_count": null,
   "id": "0c3e073b",
   "metadata": {},
   "outputs": [
    {
     "name": "stderr",
     "output_type": "stream",
     "text": [
      "100%|██████████████████████████████████████████████████████████████████████████████████████████████████████████████████████████████████████████████████████████████████████████████████| 511/511 [07:41<00:00,  1.11it/s]\n"
     ]
    }
   ],
   "source": [
    "commits = []\n",
    "closed = []\n",
    "config = json.load(open(\"config.json\", \"r\"))\n",
    "gh = Github(config[\"tokens\"][0])\n",
    "for url in tqdm(df.url):\n",
    "    repo_name = url.split(\"/\")[3] + \"/\" + url.split(\"/\")[4]\n",
    "    num = int(url.split(\"/\")[-1])\n",
    "    repo = gh.get_repo(repo_name)\n",
    "    issue = repo.get_issue(num)\n",
    "    if issue.state != \"closed\":\n",
    "        commits.append(-1)\n",
    "        closed.append(False)\n",
    "        continue\n",
    "    closed.append(True)\n",
    "    closer_commits = get_closer_commits(gh, issue)\n",
    "    commits.append(-1 if closer_commits is None else closer_commits)\n",
    "df[\"closed\"] = closed\n",
    "df[\"commits\"] = commits                           "
   ]
  },
  {
   "cell_type": "code",
   "execution_count": null,
   "id": "6bb172f2-562f-403a-901a-a934dc7e18cf",
   "metadata": {},
   "outputs": [
    {
     "data": {
      "text/html": [
       "<div>\n",
       "<style scoped>\n",
       "    .dataframe tbody tr th:only-of-type {\n",
       "        vertical-align: middle;\n",
       "    }\n",
       "\n",
       "    .dataframe tbody tr th {\n",
       "        vertical-align: top;\n",
       "    }\n",
       "\n",
       "    .dataframe thead th {\n",
       "        text-align: right;\n",
       "    }\n",
       "</style>\n",
       "<table border=\"1\" class=\"dataframe\">\n",
       "  <thead>\n",
       "    <tr style=\"text-align: right;\">\n",
       "      <th></th>\n",
       "      <th>scores</th>\n",
       "      <th>url</th>\n",
       "      <th>status_note</th>\n",
       "      <th>status_code</th>\n",
       "      <th>closed</th>\n",
       "      <th>commits</th>\n",
       "    </tr>\n",
       "  </thead>\n",
       "  <tbody>\n",
       "    <tr>\n",
       "      <th>0</th>\n",
       "      <td>0.828901</td>\n",
       "      <td>https://github.com/moment/moment/issues/5923</td>\n",
       "      <td>not-task</td>\n",
       "      <td>not-task</td>\n",
       "      <td>False</td>\n",
       "      <td>-1</td>\n",
       "    </tr>\n",
       "    <tr>\n",
       "      <th>1</th>\n",
       "      <td>0.838787</td>\n",
       "      <td>https://github.com/moment/moment/issues/5925</td>\n",
       "      <td>not-task</td>\n",
       "      <td>not-task</td>\n",
       "      <td>False</td>\n",
       "      <td>-1</td>\n",
       "    </tr>\n",
       "    <tr>\n",
       "      <th>2</th>\n",
       "      <td>0.753330</td>\n",
       "      <td>https://github.com/mui-org/material-ui/issues/...</td>\n",
       "      <td>gfi</td>\n",
       "      <td>gfi</td>\n",
       "      <td>False</td>\n",
       "      <td>-1</td>\n",
       "    </tr>\n",
       "    <tr>\n",
       "      <th>3</th>\n",
       "      <td>0.859697</td>\n",
       "      <td>https://github.com/mui-org/material-ui/issues/...</td>\n",
       "      <td>in-progress</td>\n",
       "      <td>in-progress</td>\n",
       "      <td>False</td>\n",
       "      <td>-1</td>\n",
       "    </tr>\n",
       "    <tr>\n",
       "      <th>4</th>\n",
       "      <td>0.820086</td>\n",
       "      <td>https://github.com/mui-org/material-ui/issues/...</td>\n",
       "      <td>in-progress</td>\n",
       "      <td>in-progress</td>\n",
       "      <td>False</td>\n",
       "      <td>-1</td>\n",
       "    </tr>\n",
       "    <tr>\n",
       "      <th>...</th>\n",
       "      <td>...</td>\n",
       "      <td>...</td>\n",
       "      <td>...</td>\n",
       "      <td>...</td>\n",
       "      <td>...</td>\n",
       "      <td>...</td>\n",
       "    </tr>\n",
       "    <tr>\n",
       "      <th>95</th>\n",
       "      <td>0.805930</td>\n",
       "      <td>https://github.com/facebook/docusaurus/issues/...</td>\n",
       "      <td>reported,denied</td>\n",
       "      <td>reported,denied</td>\n",
       "      <td>False</td>\n",
       "      <td>-1</td>\n",
       "    </tr>\n",
       "    <tr>\n",
       "      <th>96</th>\n",
       "      <td>0.812172</td>\n",
       "      <td>https://github.com/facebook/docusaurus/issues/...</td>\n",
       "      <td>not-task</td>\n",
       "      <td>not-task</td>\n",
       "      <td>False</td>\n",
       "      <td>-1</td>\n",
       "    </tr>\n",
       "    <tr>\n",
       "      <th>97</th>\n",
       "      <td>0.809053</td>\n",
       "      <td>https://github.com/facebook/docusaurus/issues/...</td>\n",
       "      <td>not-gfi</td>\n",
       "      <td>not-gfi</td>\n",
       "      <td>False</td>\n",
       "      <td>-1</td>\n",
       "    </tr>\n",
       "    <tr>\n",
       "      <th>98</th>\n",
       "      <td>0.816516</td>\n",
       "      <td>https://github.com/facebook/docusaurus/issues/...</td>\n",
       "      <td>not-task</td>\n",
       "      <td>not-task</td>\n",
       "      <td>True</td>\n",
       "      <td>-1</td>\n",
       "    </tr>\n",
       "    <tr>\n",
       "      <th>99</th>\n",
       "      <td>0.809069</td>\n",
       "      <td>https://github.com/facebook/docusaurus/issues/...</td>\n",
       "      <td>reported,confirmed</td>\n",
       "      <td>reported,confirmed</td>\n",
       "      <td>True</td>\n",
       "      <td>-1</td>\n",
       "    </tr>\n",
       "  </tbody>\n",
       "</table>\n",
       "<p>100 rows × 6 columns</p>\n",
       "</div>"
      ],
      "text/plain": [
       "      scores                                                url  \\\n",
       "0   0.828901       https://github.com/moment/moment/issues/5923   \n",
       "1   0.838787       https://github.com/moment/moment/issues/5925   \n",
       "2   0.753330  https://github.com/mui-org/material-ui/issues/...   \n",
       "3   0.859697  https://github.com/mui-org/material-ui/issues/...   \n",
       "4   0.820086  https://github.com/mui-org/material-ui/issues/...   \n",
       "..       ...                                                ...   \n",
       "95  0.805930  https://github.com/facebook/docusaurus/issues/...   \n",
       "96  0.812172  https://github.com/facebook/docusaurus/issues/...   \n",
       "97  0.809053  https://github.com/facebook/docusaurus/issues/...   \n",
       "98  0.816516  https://github.com/facebook/docusaurus/issues/...   \n",
       "99  0.809069  https://github.com/facebook/docusaurus/issues/...   \n",
       "\n",
       "           status_note         status_code  closed  commits  \n",
       "0             not-task            not-task   False       -1  \n",
       "1             not-task            not-task   False       -1  \n",
       "2                  gfi                 gfi   False       -1  \n",
       "3          in-progress         in-progress   False       -1  \n",
       "4          in-progress         in-progress   False       -1  \n",
       "..                 ...                 ...     ...      ...  \n",
       "95     reported,denied     reported,denied   False       -1  \n",
       "96            not-task            not-task   False       -1  \n",
       "97             not-gfi             not-gfi   False       -1  \n",
       "98            not-task            not-task    True       -1  \n",
       "99  reported,confirmed  reported,confirmed    True       -1  \n",
       "\n",
       "[100 rows x 6 columns]"
      ]
     },
     "execution_count": 5,
     "metadata": {},
     "output_type": "execute_result"
    }
   ],
   "source": [
    "df.head(100)"
   ]
  },
  {
   "cell_type": "code",
   "execution_count": null,
   "id": "3d213c5e-b8d5-46e6-9fcb-f1a3bb409186",
   "metadata": {},
   "outputs": [
    {
     "data": {
      "text/plain": [
       "Counter({False: 446, True: 65})"
      ]
     },
     "execution_count": 6,
     "metadata": {},
     "output_type": "execute_result"
    }
   ],
   "source": [
    "Counter(df.closed)"
   ]
  },
  {
   "cell_type": "code",
   "execution_count": null,
   "id": "472e7b3f-19c9-4b79-ad48-3a0ca94ed6b8",
   "metadata": {},
   "outputs": [
    {
     "data": {
      "text/plain": [
       "Counter({-1: 486,\n",
       "         1: 10,\n",
       "         20: 1,\n",
       "         4: 1,\n",
       "         3: 1,\n",
       "         33: 2,\n",
       "         35: 1,\n",
       "         0: 1,\n",
       "         1703: 1,\n",
       "         493: 1,\n",
       "         14: 1,\n",
       "         309: 1,\n",
       "         5: 1,\n",
       "         2: 1,\n",
       "         283: 1,\n",
       "         161: 1})"
      ]
     },
     "execution_count": 7,
     "metadata": {},
     "output_type": "execute_result"
    }
   ],
   "source": [
    "Counter(df.commits)"
   ]
  },
  {
   "cell_type": "code",
   "execution_count": null,
   "id": "58836e2e-7751-4b1c-9a08-ecfde0b9fd59",
   "metadata": {},
   "outputs": [
    {
     "data": {
      "text/plain": [
       "Counter({-1: 61, 1: 2, 20: 1, 309: 1, 5: 1, 2: 1})"
      ]
     },
     "execution_count": 8,
     "metadata": {},
     "output_type": "execute_result"
    }
   ],
   "source": [
    "Counter(df.commits[df.status_code == \"gfi\"])"
   ]
  },
  {
   "cell_type": "code",
   "execution_count": null,
   "id": "55733155-ce97-480d-9f18-13fcf72335a3",
   "metadata": {},
   "outputs": [
    {
     "data": {
      "text/plain": [
       "Counter({-1: 26, 493: 1})"
      ]
     },
     "execution_count": 9,
     "metadata": {},
     "output_type": "execute_result"
    }
   ],
   "source": [
    "Counter(df.commits[df.status_code == \"reported\"])"
   ]
  },
  {
   "cell_type": "code",
   "execution_count": null,
   "id": "33743dc0-9407-4be4-9dba-71e5e36b0ab3",
   "metadata": {},
   "outputs": [
    {
     "data": {
      "text/plain": [
       "Counter({-1: 15, 1: 1})"
      ]
     },
     "execution_count": 10,
     "metadata": {},
     "output_type": "execute_result"
    }
   ],
   "source": [
    "Counter(df.commits[df.status_code == \"reported,confirmed\"])"
   ]
  },
  {
   "cell_type": "code",
   "execution_count": null,
   "id": "8e5b7f59-100f-4c93-93b4-4f0799c2694f",
   "metadata": {},
   "outputs": [
    {
     "data": {
      "text/plain": [
       "Counter({-1: 26, 4: 1, 161: 1})"
      ]
     },
     "execution_count": 11,
     "metadata": {},
     "output_type": "execute_result"
    }
   ],
   "source": [
    "Counter(df.commits[df.status_code == \"reported,denied\"])"
   ]
  },
  {
   "cell_type": "code",
   "execution_count": null,
   "id": "b9906677-31c0-468f-a7a2-1898e36fbfde",
   "metadata": {},
   "outputs": [],
   "source": [
    "df.to_csv(\"prediction_real_world_issues.csv\", index=False)"
   ]
  },
  {
   "cell_type": "code",
   "execution_count": null,
   "id": "5a3d7b1d-eefb-413a-bfb0-bb886dcc5388",
   "metadata": {},
   "outputs": [],
   "source": []
  }
 ],
 "metadata": {
  "kernelspec": {
   "display_name": "Python 3 (ipykernel)",
   "language": "python",
   "name": "python3"
  },
  "language_info": {
   "codemirror_mode": {
    "name": "ipython",
    "version": 3
   },
   "file_extension": ".py",
   "mimetype": "text/x-python",
   "name": "python",
   "nbconvert_exporter": "python",
   "pygments_lexer": "ipython3",
   "version": "3.8.2"
  }
 },
 "nbformat": 4,
 "nbformat_minor": 5
}
